{
 "cells": [
  {
   "cell_type": "code",
   "execution_count": 1,
   "metadata": {
    "collapsed": false
   },
   "outputs": [],
   "source": [
    "import spotipy\n",
    "import spotipy.util as util\n",
    "import spotipy.oauth2 as oauth2"
   ]
  },
  {
   "cell_type": "code",
   "execution_count": 2,
   "metadata": {
    "collapsed": false
   },
   "outputs": [],
   "source": [
    "username = '1223827041'"
   ]
  },
  {
   "cell_type": "code",
   "execution_count": 9,
   "metadata": {
    "collapsed": true
   },
   "outputs": [],
   "source": [
    "# specific code and details for retrieving the OAuth token were deleted to maintain the privacy of my account\n",
    "sp = spotipy.Spotify(auth=token)\n",
    "playlists = sp.user_playlists(username)"
   ]
  },
  {
   "cell_type": "code",
   "execution_count": 12,
   "metadata": {
    "collapsed": false
   },
   "outputs": [
    {
     "name": "stdout",
     "output_type": "stream",
     "text": [
      "Hot Country 37i9dQZF1DX1lVhptIYRda\n",
      "RapCaviar 37i9dQZF1DX0XUsuxWHRQd\n"
     ]
    }
   ],
   "source": [
    "# I will be dealing with two playlists worth of songs\n",
    "# My goal is to predict which playlist a given song would be on\n",
    "# In other words, I am predciting the genre of that song\n",
    "for p in playlists['items'][:2]:\n",
    "    print(p['name'], p['id'])"
   ]
  },
  {
   "cell_type": "code",
   "execution_count": 13,
   "metadata": {
    "collapsed": true
   },
   "outputs": [],
   "source": [
    "# my playlist ids\n",
    "playlist_ids = [p['id'] for p in playlists['items'][:2]]\n",
    "playlist_labels = [p['name'] for p in playlists['items'][:2]]"
   ]
  },
  {
   "cell_type": "code",
   "execution_count": 14,
   "metadata": {
    "collapsed": true
   },
   "outputs": [],
   "source": [
    "# defining functions for our different labels\n",
    "def genre2label(genre):\n",
    "    g2l_dict = {'Hot Country': 0,\n",
    "                'RapCaviar': 1}\n",
    "    \n",
    "    return g2l_dict[genre]\n",
    "\n",
    "def label2genre(label):\n",
    "    l2g_dict = {0: 'Hot Country',\n",
    "                1: 'RapCaviar'}\n",
    "    \n",
    "    return l2g_dict[label]"
   ]
  },
  {
   "cell_type": "code",
   "execution_count": 15,
   "metadata": {
    "collapsed": true
   },
   "outputs": [],
   "source": [
    "from tqdm import tqdm_notebook as tqdm\n",
    "import pandas as pd\n",
    "\n",
    "# Spotify's audio analysis returns more data about the songs, \n",
    "# but these are the relevant categories that I will use as my features\n",
    "desired_features = ['acousticness', 'danceability', 'energy', 'loudness', 'speechiness', 'tempo', 'valence']\n",
    "\n",
    "# this function iterates through the tracks of playlist\n",
    "# and returns a dataframe containing all the values of the feature categories\n",
    "def get_playlist_features(playlist_id, genre, desired_features):\n",
    "    features = []\n",
    "    tracks = sp.user_playlist_tracks('spotify', playlist_id)['items']\n",
    "    for track in tqdm(tracks):\n",
    "        audio_features = sp.audio_features(track['track']['id'])[0]\n",
    "        if audio_features:\n",
    "            final_features = [audio_features[key] for key in desired_features]\n",
    "            # need to add label to row\n",
    "            final_features.append(genre2label(genre))\n",
    "            features.append(final_features)\n",
    "        \n",
    "    df = pd.DataFrame(features)\n",
    "    df.columns = desired_features + ['label']\n",
    "    return df"
   ]
  },
  {
   "cell_type": "code",
   "execution_count": 16,
   "metadata": {
    "collapsed": false
   },
   "outputs": [
    {
     "name": "stdout",
     "output_type": "stream",
     "text": [
      "Hot Country\n",
      "\n",
      "RapCaviar\n",
      "\n"
     ]
    }
   ],
   "source": [
    "data = pd.DataFrame()\n",
    "\n",
    "# here we get the song features from both playlists and combine them into a single dataframe\n",
    "for i in range(2):\n",
    "    print(playlist_labels[i])\n",
    "    pl_features = get_playlist_features(playlist_ids[i], playlist_labels[i], desired_features)\n",
    "    data = pd.concat([data, pl_features])"
   ]
  },
  {
   "cell_type": "code",
   "execution_count": 17,
   "metadata": {
    "collapsed": false
   },
   "outputs": [
    {
     "data": {
      "text/plain": [
       "(100, 8)"
      ]
     },
     "execution_count": 17,
     "metadata": {},
     "output_type": "execute_result"
    }
   ],
   "source": [
    "data = data.reset_index(drop=True)\n",
    "data.shape"
   ]
  },
  {
   "cell_type": "code",
   "execution_count": 19,
   "metadata": {
    "collapsed": false
   },
   "outputs": [
    {
     "name": "stdout",
     "output_type": "stream",
     "text": [
      "0.95\n"
     ]
    }
   ],
   "source": [
    "# due to the small amount of songs and features,\n",
    "# I will use a simple model, a Decision Tree,\n",
    "# to try and predict the genre of a song given its audio features\n",
    "\n",
    "# if we had more data, perhaps something like a Neural Network would be appropriate\n",
    "# but here I show that accurate predictions can still be made given a small amount of data\n",
    "\n",
    "# a decision tree is useful in that the \"why\" of the prediction can be explicitly analyzed,\n",
    "# whereas a neural network is more of a black box and it is unknown how the model may have made certain predictions\n",
    "\n",
    "from sklearn import tree\n",
    "from sklearn.metrics import accuracy_score\n",
    "from sklearn.model_selection import train_test_split\n",
    "\n",
    "X = data.iloc[:, :-1]\n",
    "y = data.iloc[:, -1]\n",
    "\n",
    "X_train, X_test, y_train, y_test = train_test_split(X, y, test_size=0.2)\n",
    "\n",
    "dec_tree = tree.DecisionTreeClassifier()\n",
    "dec_tree.fit(X_train, y_train)\n",
    "preds = dec_tree.predict(X_test)\n",
    "\n",
    "print(accuracy_score(y_test, preds))"
   ]
  },
  {
   "cell_type": "code",
   "execution_count": 20,
   "metadata": {
    "collapsed": true
   },
   "outputs": [],
   "source": [
    "# creating a visual model of the decision tree\n",
    "tree.export_graphviz(dec_tree, 'dec_tree.dot', feature_names=desired_features,\n",
    "                     class_names=playlist_labels, filled=True, impurity=False)"
   ]
  }
 ],
 "metadata": {
  "kernelspec": {
   "display_name": "Python 3",
   "language": "python",
   "name": "python3"
  },
  "language_info": {
   "codemirror_mode": {
    "name": "ipython",
    "version": 3
   },
   "file_extension": ".py",
   "mimetype": "text/x-python",
   "name": "python",
   "nbconvert_exporter": "python",
   "pygments_lexer": "ipython3",
   "version": "3.6.0"
  }
 },
 "nbformat": 4,
 "nbformat_minor": 2
}
